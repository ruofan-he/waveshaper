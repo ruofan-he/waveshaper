{
 "cells": [
  {
   "cell_type": "markdown",
   "metadata": {},
   "source": [
    "# 各直交位相振幅確認"
   ]
  },
  {
   "cell_type": "code",
   "execution_count": 1,
   "metadata": {},
   "outputs": [],
   "source": [
    "import numpy as np\n",
    "from convinience import Spectrum, Band, synthesisSpectrum\n",
    "from convinience import gaussian_profile, compensation, calc_totalPower ,attenuation\n",
    "from mso58trans import MSO58Wrapper\n",
    "from shutter import servo_shutter\n",
    "from WSMethods import uploadProfile, getWSrange\n",
    "from sklearn.decomposition import PCA\n",
    "from csv import DictWriter\n",
    "import datetime\n",
    "import copy\n",
    "from time import sleep\n",
    "from matplotlib import pyplot as plt"
   ]
  },
  {
   "cell_type": "code",
   "execution_count": null,
   "metadata": {},
   "outputs": [],
   "source": [
    "# 各種設定周り ここにすべてまとめる\n",
    "\n",
    "class Setting:\n",
    "    def __init__(self):\n",
    "        self.ws_ip                          = '169.254.6.8'\n",
    "        self.ws_Freq_resolution             = 0.001 # 0.001THz = 1GHz\n",
    "        self.ws_Freqrange                   = None\n",
    "        self.optSpectrum : Spectrum         = None\n",
    "        self.mso58_address                  = 'USB::0x0699::0x0530::C043144::INSTR'\n",
    "        self.homodyne_port                  = 1\n",
    "        self.fastFramePulseNum              = 5\n",
    "        self.quadrature_method              = lambda volts: PCA().fit_transform(volts.reshape((-1,volts.shape[-1])))[:,0].reshape(volts.shape[:-1])\n",
    "        # self.quadrature_method              = lambda volts: volts[:,100]\n",
    "        self.targetLOPower                  = 1\n",
    "        self.shutter_port                   = 'COM3'\n",
    "        self.pumpShutterPort : int          = 2\n",
    "        self.param_csv                      = f\"{datetime.datetime.now().strftime('%Y%m%d_%H%M%S')}record.csv\"\n",
    "\n",
    "\n",
    "    def condition_approval(self):\n",
    "        assert self.ws_Freqrange             is not None\n",
    "        assert self.optSpectrum              is not None\n",
    "        assert self.optSpectrum.powerdensity is not None\n",
    "        assert self.optSpectrum.frequency    is not None\n",
    "        assert self.optSpectrum.wavelength   is not None\n",
    "        assert self.optSpectrum.phase        is not None\n",
    "        assert self.fastFramePulseNum        is not None\n",
    "        assert self.quadrature_method        is not None\n",
    "        assert self.targetLOPower            is not None\n",
    "        assert self.shutter_port             is not None\n",
    "        assert self.pumpShutterPort          is not None\n",
    "        assert self.param_csv                is not None\n",
    "\n",
    "\n",
    "setting = Setting()\n",
    "\n",
    "startFreq, endFreq    = getWSrange(setting.ws_ip)\n",
    "setting.ws_Freqrange  = np.arange(startFreq, endFreq, setting.ws_Freq_resolution)\n",
    "\n",
    "setting.optSpectrum                = Spectrum()\n",
    "setting.optSpectrum.band           = Band()\n",
    "setting.optSpectrum.frequency      = np.load('optFreq.npy')\n",
    "setting.optSpectrum.powerdensity   = np.load('optSpectrum.npy')\n",
    "setting.optSpectrum.phase          = np.zeros_like(setting.optSpectrum.frequency)\n",
    "\n",
    "setting.condition_approval()"
   ]
  },
  {
   "cell_type": "markdown",
   "metadata": {},
   "source": [
    "### 確認"
   ]
  },
  {
   "cell_type": "code",
   "execution_count": null,
   "metadata": {},
   "outputs": [],
   "source": [
    "osc_handler = MSO58Wrapper(setting.mso58_address)\n",
    "osc_handler.push_single()\n",
    "t, w = None, None\n",
    "while True:\n",
    "    try:\n",
    "        t, w = osc_handler.transfer2byte(setting.homodyne_port)\n",
    "        break\n",
    "    except:\n",
    "        sleep(1)\n",
    "        continue\n",
    "## quad\n",
    "\n",
    "pulseNum        = setting.fastFramePulseNum\n",
    "quadrature_func = setting.quadrature_method\n",
    "\n",
    "frameLength = w.shape[1]\n",
    "frames      = w.shape[0]\n",
    "period      = [int(i * frameLength/pulseNum) for i in range(pulseNum)]\n",
    "duration    = int(frameLength/pulseNum)\n",
    "quadratures = np.zeros((frames, pulseNum))\n",
    "\n",
    "volts = np.zeros((frames,pulseNum,duration))\n",
    "\n",
    "for i in range(pulseNum):\n",
    "    s = period[i]\n",
    "    volts[:,i,:] = w[:,s:(s+duration)]\n",
    "\n",
    "quadratures = quadrature_func(volts)\n"
   ]
  },
  {
   "cell_type": "code",
   "execution_count": null,
   "metadata": {},
   "outputs": [],
   "source": [
    "plt.plot(volts[:,0,:].T);"
   ]
  },
  {
   "cell_type": "code",
   "execution_count": null,
   "metadata": {},
   "outputs": [],
   "source": [
    "plt.scatter(range(quadratures.shape[0]), quadratures[:,0], s=0.1)"
   ]
  }
 ],
 "metadata": {
  "kernelspec": {
   "display_name": "Python 3.9.0 64-bit",
   "language": "python",
   "name": "python3"
  },
  "language_info": {
   "codemirror_mode": {
    "name": "ipython",
    "version": 3
   },
   "file_extension": ".py",
   "mimetype": "text/x-python",
   "name": "python",
   "nbconvert_exporter": "python",
   "pygments_lexer": "ipython3",
   "version": "3.9.0"
  },
  "orig_nbformat": 4,
  "vscode": {
   "interpreter": {
    "hash": "4b4f216789f43f43ecc591a377bc2a7b5f02c99d00f656b444c8198c606cc60c"
   }
  }
 },
 "nbformat": 4,
 "nbformat_minor": 2
}
