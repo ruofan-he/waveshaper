{
 "cells": [
  {
   "cell_type": "markdown",
   "metadata": {},
   "source": [
    "# オプティマイズ\n",
    "この版はパラメトリック最適化にするつもり。\n",
    "- 中心周波数\n",
    "- バンド幅\n",
    "- 分散補償\n",
    "計 3パラメーター\n",
    "\n",
    "必要なものは\n",
    "- スクイージングレベルの測定\n",
    "    - ポンプ光のON/OFF arduinoモジュール OK\n",
    "    - スペアナのSCPIコントロール\n",
    "    - もしかしたらロック角度の変調\n",
    "- waveshaperコントロール\n",
    "- パラメーター生成"
   ]
  },
  {
   "cell_type": "code",
   "execution_count": null,
   "metadata": {},
   "outputs": [],
   "source": [
    "# 光シャッターのコントロールクラス\n",
    "import serial\n",
    "from time import sleep\n",
    "\n",
    "class optical_shutter:\n",
    "    def __init__(self, port=\"COM4\", baudrate=9600): \n",
    "        self.port = port\n",
    "        self.baudrate = baudrate\n",
    "        #self.setDTR(False)     # DTRを常にLOWにしReset阻止\n",
    "        self.timeout = 3\n",
    "\n",
    "    def open(self, shutter_list: list):\n",
    "        with serial.Serial(self.port, self.baudrate, timeout = self.timeout, dsrdtr=False) as ser:\n",
    "            buffer = 'open: ' + ' '.join(map(str, shutter_list)) + '\\n'\n",
    "            ser.write(buffer.encode())\n",
    "    \n",
    "    def close(self, shutter_list: list):\n",
    "        with serial.Serial(self.port, self.baudrate, timeout = self.timeout, dsrdtr=False) as ser:\n",
    "            buffer = 'close: ' + ' '.join(map(str, shutter_list)) + '\\n'\n",
    "            ser.write(buffer.encode())"
   ]
  }
 ],
 "metadata": {
  "kernelspec": {
   "display_name": "Python 3.9.0 64-bit",
   "language": "python",
   "name": "python3"
  },
  "language_info": {
   "name": "python",
   "version": "3.9.0"
  },
  "orig_nbformat": 4,
  "vscode": {
   "interpreter": {
    "hash": "4b4f216789f43f43ecc591a377bc2a7b5f02c99d00f656b444c8198c606cc60c"
   }
  }
 },
 "nbformat": 4,
 "nbformat_minor": 2
}
