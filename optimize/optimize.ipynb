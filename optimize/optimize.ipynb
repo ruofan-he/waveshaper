{
 "cells": [
  {
   "cell_type": "markdown",
   "metadata": {},
   "source": [
    "# オプティマイズ\n",
    "この版はパラメトリック最適化にするつもり。\n",
    "- 中心周波数\n",
    "- バンド幅\n",
    "- 分散補償\n",
    "計 3パラメーター\n",
    "\n",
    "必要なものは\n",
    "- スクイージングレベルの測定\n",
    "    - ポンプ光のON/OFF arduinoモジュール OK\n",
    "    - スペアナのSCPIコントロール\n",
    "    - もしかしたらロック角度の変調\n",
    "- waveshaperコントロール OK\n",
    "- パラメーター生成 全探索 OK"
   ]
  },
  {
   "cell_type": "code",
   "execution_count": 7,
   "metadata": {},
   "outputs": [],
   "source": [
    "import numpy as np\n",
    "from convinience import Spectrum, Band, synthesisSpectrum\n",
    "from convinience import gaussian_profile, compensation, calc_totalPower ,attenuation\n",
    "from mso58trans import MSO58transData\n",
    "from sklearn.decomposition import PCA\n",
    "import copy"
   ]
  },
  {
   "cell_type": "code",
   "execution_count": null,
   "metadata": {},
   "outputs": [],
   "source": [
    "# 各種設定周り ここにすべてまとめる\n",
    "\n",
    "class Setting:\n",
    "    def __init__(self):\n",
    "        self.ws_ip                  = '169.254.6.8'\n",
    "        self.ws_Freq_resolution     = 0.001 # 0.001THz = 1GHz\n",
    "        self.ws_Freqrange           = None\n",
    "        self.optSpectrum : Spectrum = None\n",
    "        self.mso58_address          = 'USB::0x0699::0x0530::C043144::INSTR'\n",
    "        self.fastFramePulseNum      = 5\n",
    "        self.quadrature_method      = lambda volts: PCA().fit_transform(volts.reshape((-1,volts.shape[-1])))[:,0].reshape(volts.shape[:-1])\n",
    "\n",
    "    def condition_approval(self):\n",
    "        assert self.ws_Freqrange             is not None\n",
    "        assert self.optSpectrum              is not None\n",
    "        assert self.optSpectrum.powerdensity is not None\n",
    "        assert self.optSpectrum.frequency    is not None\n",
    "        assert self.optSpectrum.wavelength   is not None\n",
    "        assert self.optSpectrum.phase        is not None\n",
    "        assert self.fastFramePulseNum        is not None\n",
    "        assert self.quadrature_method        is not None\n",
    "\n",
    "setting = Setting()\n",
    "\n",
    "from WSMethods import getWSrange\n",
    "startFreq, endFreq    = getWSrange(setting.ws_ip)\n",
    "setting.ws_Freqrange  = np.arange(startFreq, endFreq, setting.ws_Freq_resolution)\n",
    "\n",
    "setting.optSpectrum.band.frequency = np.load('optFreq.npy')\n",
    "setting.optSpectrum.powerdensity   = np.load('optSpectrum.npy')\n",
    "setting.optSpectrum.phase          = np.zeros_like(setting.optSpectrum.band.frequency)\n",
    "\n",
    "setting.condition_approval()"
   ]
  },
  {
   "cell_type": "markdown",
   "metadata": {},
   "source": [
    "### 最適化フェーズ"
   ]
  },
  {
   "cell_type": "code",
   "execution_count": 4,
   "metadata": {},
   "outputs": [],
   "source": [
    "def quad(w, pulseNum, quadrature_func):\n",
    "    frameLength = w.shape[1]\n",
    "    frames      = w.shape[0]\n",
    "    period = [int(i * frameLength/pulseNum) for i in range(pulseNum)]\n",
    "    duration = int(frameLength/pulseNum)\n",
    "    quadratures = np.zeros((frames, pulseNum))\n",
    "\n",
    "    volts = np.zeros((frames,pulseNum,duration))\n",
    "\n",
    "    for i in range(pulseNum):\n",
    "        s = period[i]\n",
    "        volts[:,i,:] = w[:,s:(s+duration)]\n",
    "\n",
    "    quadratures = quadrature_func(volts)\n",
    "    return quadratures\n",
    "\n",
    "\n",
    "def evalation(quadratures):\n",
    "    return quadratures.var()\n",
    "\n",
    "\n",
    "\n",
    "\n",
    "def loop():\n",
    "    pass\n",
    "\n",
    "\n",
    "\n",
    "# optimize loop or squeezing level sampler\n",
    "## new_LO_spectrum\n",
    "## (power adjustment)\n",
    "\n",
    "## pump off\n",
    "## osc_com\n",
    "## quad\n",
    "## eval_shotnoise\n",
    "\n",
    "## pump on\n",
    "## osc_com\n",
    "## quad\n",
    "## eval_squeeze"
   ]
  },
  {
   "cell_type": "code",
   "execution_count": null,
   "metadata": {},
   "outputs": [],
   "source": []
  }
 ],
 "metadata": {
  "kernelspec": {
   "display_name": "Python 3.9.0 64-bit",
   "language": "python",
   "name": "python3"
  },
  "language_info": {
   "codemirror_mode": {
    "name": "ipython",
    "version": 3
   },
   "file_extension": ".py",
   "mimetype": "text/x-python",
   "name": "python",
   "nbconvert_exporter": "python",
   "pygments_lexer": "ipython3",
   "version": "3.9.0"
  },
  "orig_nbformat": 4,
  "vscode": {
   "interpreter": {
    "hash": "4b4f216789f43f43ecc591a377bc2a7b5f02c99d00f656b444c8198c606cc60c"
   }
  }
 },
 "nbformat": 4,
 "nbformat_minor": 2
}
