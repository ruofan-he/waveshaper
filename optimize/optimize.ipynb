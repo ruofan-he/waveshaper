{
 "cells": [
  {
   "cell_type": "markdown",
   "metadata": {},
   "source": [
    "# オプティマイズ\n",
    "この版はパラメトリック最適化にするつもり。\n",
    "- 中心周波数\n",
    "- バンド幅\n",
    "- 分散補償\n",
    "計 3パラメーター\n",
    "\n",
    "必要なものは\n",
    "- スクイージングレベルの測定\n",
    "    - ポンプ光のON/OFF arduinoモジュール OK\n",
    "    - スペアナのSCPIコントロール\n",
    "    - もしかしたらロック角度の変調\n",
    "- waveshaperコントロール\n",
    "- パラメーター生成"
   ]
  },
  {
   "cell_type": "code",
   "execution_count": 4,
   "metadata": {},
   "outputs": [],
   "source": [
    "import numpy as np"
   ]
  },
  {
   "cell_type": "code",
   "execution_count": 1,
   "metadata": {},
   "outputs": [],
   "source": [
    "# 各種設定周り\n",
    "\n",
    "class Setting:\n",
    "    def __init__(self):\n",
    "        self.ws_ip                = '169.254.6.8'\n",
    "        self.ws_Freq_resolution   = 0.001 # 0.001THz = 1GHz\n",
    "        self.ws_Freqrange         = None\n",
    "        self.optWavelength        = None\n",
    "        self.optFreq              = None\n",
    "        self.optSpectrum          = None\n",
    "\n",
    "    def condition_approval(self):\n",
    "        assert self.ws_Freqrange  is not None\n",
    "        assert self.optWavelength is not None\n",
    "        assert self.optFreq       is not None\n",
    "        assert self.optSpectrum   is not None\n",
    "\n",
    "setting = Setting()\n",
    "\n",
    "from WSMethods import getWSrange\n",
    "startFreq, endFreq    = getWSrange(setting.ws_ip)\n",
    "setting.ws_Freqrange  = np.arange(startFreq, endFreq, setting.ws_Freq_resolution)\n",
    "\n",
    "setting.optWavelength = np.load('optWavelength.npy')\n",
    "setting.optFreq       = np.load('optFreq.npy')\n",
    "setting.optSpectrum   = np.load('optSpectrum.npy')\n",
    "\n",
    "\n",
    "\n",
    "\n",
    "\n",
    "setting.condition_approval()"
   ]
  },
  {
   "cell_type": "code",
   "execution_count": null,
   "metadata": {},
   "outputs": [],
   "source": []
  }
 ],
 "metadata": {
  "kernelspec": {
   "display_name": "Python 3.9.0 64-bit",
   "language": "python",
   "name": "python3"
  },
  "language_info": {
   "codemirror_mode": {
    "name": "ipython",
    "version": 3
   },
   "file_extension": ".py",
   "mimetype": "text/x-python",
   "name": "python",
   "nbconvert_exporter": "python",
   "pygments_lexer": "ipython3",
   "version": "3.9.0"
  },
  "orig_nbformat": 4,
  "vscode": {
   "interpreter": {
    "hash": "4b4f216789f43f43ecc591a377bc2a7b5f02c99d00f656b444c8198c606cc60c"
   }
  }
 },
 "nbformat": 4,
 "nbformat_minor": 2
}
