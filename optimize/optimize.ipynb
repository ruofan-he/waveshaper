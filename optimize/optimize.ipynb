{
 "cells": [
  {
   "cell_type": "markdown",
   "metadata": {},
   "source": [
    "# オプティマイズ\n",
    "この版はパラメトリック最適化にするつもり。\n",
    "- 中心周波数\n",
    "- バンド幅\n",
    "- 分散補償\n",
    "計 3パラメーター\n",
    "\n",
    "必要なものは\n",
    "- スクイージングレベルの測定\n",
    "    - ポンプ光のON/OFF arduinoモジュール OK\n",
    "    - スペアナのSCPIコントロール\n",
    "    - もしかしたらロック角度の変調\n",
    "- waveshaperコントロール\n",
    "- パラメーター生成"
   ]
  },
  {
   "cell_type": "code",
   "execution_count": 1,
   "metadata": {},
   "outputs": [],
   "source": [
    "import numpy as np\n",
    "from convinience import Spectrum, Band, synthesisSpectrum\n",
    "import copy"
   ]
  },
  {
   "cell_type": "code",
   "execution_count": null,
   "metadata": {},
   "outputs": [],
   "source": [
    "# 各種設定周り\n",
    "\n",
    "class Setting:\n",
    "    def __init__(self):\n",
    "        self.ws_ip                  = '169.254.6.8'\n",
    "        self.ws_Freq_resolution     = 0.001 # 0.001THz = 1GHz\n",
    "        self.ws_Freqrange           = None\n",
    "        self.optSpectrum : Spectrum = None\n",
    "\n",
    "    def condition_approval(self):\n",
    "        assert self.ws_Freqrange             is not None\n",
    "        assert self.optSpectrum              is not None\n",
    "        assert self.optSpectrum.powerdensity is not None\n",
    "        assert self.optSpectrum.frequency    is not None\n",
    "        assert self.optSpectrum.wavelength   is not None\n",
    "        assert self.optSpectrum.phase        is not None\n",
    "\n",
    "setting = Setting()\n",
    "\n",
    "from WSMethods import getWSrange\n",
    "startFreq, endFreq    = getWSrange(setting.ws_ip)\n",
    "setting.ws_Freqrange  = np.arange(startFreq, endFreq, setting.ws_Freq_resolution)\n",
    "\n",
    "setting.optSpectrum.band.frequency = np.load('optFreq.npy')\n",
    "setting.optSpectrum.powerdensity   = np.load('optSpectrum.npy')\n",
    "setting.optSpectrum.phase          = np.zeros_like(setting.optSpectrum.band.frequency)\n",
    "\n",
    "setting.condition_approval()"
   ]
  },
  {
   "cell_type": "code",
   "execution_count": null,
   "metadata": {},
   "outputs": [],
   "source": [
    "def gaussian_profile(centerWavelength = 1545.2, bandWidth = 0.3, band : Band= None, dispersion = 0):\n",
    "    c = 299792458\n",
    "    spectrum = Spectrum()\n",
    "    spectrum.band = copy.deepcopy(band)\n",
    "    spectrum.powerdensity = -10*((band.wavelength*1E9 - centerWavelength)/(bandWidth/2.0))**2 * 0.3 # dB\n",
    "    centerFreq = c/(centerWavelength*1E-9)/1E12\n",
    "    spectrum.phase = (centerWavelength*1E-9)**2/(1*np.pi*c)*(dispersion*1E-2)*((band.frequency-centerFreq)*1E12)**2\n",
    "    return spectrum\n",
    "\n",
    "def compensation(optSpectrum: Spectrum, targetSpectrum: Spectrum, band: Band):\n",
    "    tempSpectrum = copy.deepcopy(optSpectrum)\n",
    "    tempSpectrum.powerdensity = -tempSpectrum.powerdensity\n",
    "    new_spectrum = synthesisSpectrum(tempSpectrum, targetSpectrum, band)\n",
    "    # たとえば1540~1550nm帯域で増幅(new_spectrum.powerdensity)しないように、引いとくとか。\n",
    "    range_max = np.max(new_spectrum.powerdensity[(1540 < new_spectrum.wavelength) & (new_spectrum.wavelength < 1550)])\n",
    "    new_spectrum.powerdensity -= range_max\n",
    "    return new_spectrum"
   ]
  }
 ],
 "metadata": {
  "kernelspec": {
   "display_name": "Python 3.9.0 64-bit",
   "language": "python",
   "name": "python3"
  },
  "language_info": {
   "codemirror_mode": {
    "name": "ipython",
    "version": 3
   },
   "file_extension": ".py",
   "mimetype": "text/x-python",
   "name": "python",
   "nbconvert_exporter": "python",
   "pygments_lexer": "ipython3",
   "version": "3.9.0"
  },
  "orig_nbformat": 4,
  "vscode": {
   "interpreter": {
    "hash": "4b4f216789f43f43ecc591a377bc2a7b5f02c99d00f656b444c8198c606cc60c"
   }
  }
 },
 "nbformat": 4,
 "nbformat_minor": 2
}
