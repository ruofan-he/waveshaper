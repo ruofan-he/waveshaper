{
 "cells": [
  {
   "cell_type": "markdown",
   "metadata": {},
   "source": [
    "# オプティマイズ\n",
    "この版はパラメトリック最適化にするつもり。\n",
    "- 中心周波数\n",
    "- バンド幅\n",
    "- 分散補償\n",
    "計 3パラメーター\n",
    "\n",
    "必要なものは\n",
    "- スクイージングレベルの測定\n",
    "    - ポンプ光のON/OFF arduinoモジュール OK\n",
    "    - スペアナのSCPIコントロール\n",
    "    - もしかしたらロック角度の変調\n",
    "- waveshaperコントロール OK\n",
    "- パラメーター生成 全探索 OK"
   ]
  },
  {
   "cell_type": "code",
   "execution_count": 10,
   "metadata": {},
   "outputs": [],
   "source": [
    "import numpy as np\n",
    "from convinience import Spectrum, Band, synthesisSpectrum\n",
    "from convinience import gaussian_profile, compensation, calc_totalPower ,attenuation\n",
    "from mso58trans import MSO58Wrapper\n",
    "from shutter import servo_shutter\n",
    "from WSMethods import uploadProfile, getWSrange\n",
    "from sklearn.decomposition import PCA\n",
    "from csv import DictWriter\n",
    "import datetime\n",
    "import copy\n",
    "from time import sleep"
   ]
  },
  {
   "cell_type": "code",
   "execution_count": null,
   "metadata": {},
   "outputs": [],
   "source": [
    "# 各種設定周り ここにすべてまとめる\n",
    "\n",
    "class Setting:\n",
    "    def __init__(self):\n",
    "        self.ws_ip                          = '169.254.6.8'\n",
    "        self.ws_Freq_resolution             = 0.001 # 0.001THz = 1GHz\n",
    "        self.ws_Freqrange                   = None\n",
    "        self.optSpectrum : Spectrum         = None\n",
    "        self.mso58_address                  = 'USB::0x0699::0x0530::C043144::INSTR'\n",
    "        self.homodyne_port                  = 1\n",
    "        self.fastFramePulseNum              = 5\n",
    "        self.quadrature_method              = lambda volts: PCA().fit_transform(volts.reshape((-1,volts.shape[-1])))[:,0].reshape(volts.shape[:-1])\n",
    "        # self.quadrature_method              = lambda volts: volts[:,100]\n",
    "        self.targetLOPower                  = 1\n",
    "        self.shutter_port                   = 'COM3'\n",
    "        self.pumpShutterPort : int          = 2\n",
    "        self.param_csv                      = f\"{datetime.datetime.now().strftime('%Y%m%d_%H%M%S')}record.csv\"\n",
    "\n",
    "\n",
    "    def condition_approval(self):\n",
    "        assert self.ws_Freqrange             is not None\n",
    "        assert self.optSpectrum              is not None\n",
    "        assert self.optSpectrum.powerdensity is not None\n",
    "        assert self.optSpectrum.frequency    is not None\n",
    "        assert self.optSpectrum.wavelength   is not None\n",
    "        assert self.optSpectrum.phase        is not None\n",
    "        assert self.fastFramePulseNum        is not None\n",
    "        assert self.quadrature_method        is not None\n",
    "        assert self.targetLOPower            is not None\n",
    "        assert self.shutter_port             is not None\n",
    "        assert self.pumpShutterPort          is not None\n",
    "        assert self.param_csv                is not None\n",
    "\n",
    "\n",
    "setting = Setting()\n",
    "\n",
    "startFreq, endFreq    = getWSrange(setting.ws_ip)\n",
    "setting.ws_Freqrange  = np.arange(startFreq, endFreq, setting.ws_Freq_resolution)\n",
    "\n",
    "setting.optSpectrum                = Spectrum()\n",
    "setting.optSpectrum.band           = Band()\n",
    "setting.optSpectrum.frequency      = np.load('optFreq.npy')\n",
    "setting.optSpectrum.powerdensity   = np.load('optSpectrum.npy')\n",
    "setting.optSpectrum.phase          = np.zeros_like(setting.optSpectrum.frequency)\n",
    "\n",
    "setting.condition_approval()"
   ]
  },
  {
   "cell_type": "markdown",
   "metadata": {},
   "source": [
    "### 最適化フェーズ"
   ]
  },
  {
   "cell_type": "code",
   "execution_count": 43,
   "metadata": {},
   "outputs": [],
   "source": [
    "class State:\n",
    "    def __init__(self):\n",
    "        self.current_param = None\n",
    "\n",
    "state = State()"
   ]
  },
  {
   "cell_type": "code",
   "execution_count": 48,
   "metadata": {},
   "outputs": [],
   "source": [
    "\n",
    "def quad(w, pulseNum, quadrature_func):\n",
    "    frameLength = w.shape[1]\n",
    "    frames      = w.shape[0]\n",
    "    period = [int(i * frameLength/pulseNum) for i in range(pulseNum)]\n",
    "    duration = int(frameLength/pulseNum)\n",
    "    quadratures = np.zeros((frames, pulseNum))\n",
    "\n",
    "    volts = np.zeros((frames,pulseNum,duration))\n",
    "\n",
    "    for i in range(pulseNum):\n",
    "        s = period[i]\n",
    "        volts[:,i,:] = w[:,s:(s+duration)]\n",
    "\n",
    "    quadratures = quadrature_func(volts)\n",
    "    return quadratures\n",
    "\n",
    "\n",
    "def evalation(quadratures):\n",
    "    return quadratures.var()\n",
    "\n",
    "\n",
    "\n",
    "def param_gen(state: State):\n",
    "    for center_wavelength in np.linspace(1543,1547,40):\n",
    "        for band_width in np.linspace(0.2,1,20):\n",
    "            for dispersion in [0]:\n",
    "                yield center_wavelength, band_width, dispersion\n",
    "\n",
    "\n",
    "\n",
    "def loop():\n",
    "    # optimizing loop\n",
    "    for center_wavelength, band_width, dispersion in param_gen(state):\n",
    "        ## new_LO_spectrum\n",
    "        band = Band()\n",
    "        band.frequency          = setting.ws_Freqrange\n",
    "        filterSpectrum          = gaussian_profile(\n",
    "                                    centerWavelength    =center_wavelength,\n",
    "                                    bandWidth           =band_width, band=band,\n",
    "                                    dispersion          =dispersion\n",
    "                                )\n",
    "        compensated_Spectrum    = compensation(\n",
    "                                    setting.optSpectrum,\n",
    "                                    targetSpectrum      =filterSpectrum,\n",
    "                                    band                =band\n",
    "                                )\n",
    "        total_power = calc_totalPower(\n",
    "                                    setting.optSpectrum,\n",
    "                                    compensated_Spectrum\n",
    "                                )\n",
    "        ## (power adjustment)\n",
    "        #filterSpectrum = attenuation(filterSpectrum, total_power - setting.targetLOPower)\n",
    "        filterPort = np.ones(filterSpectrum.powerdensity.shape)\n",
    "        r = uploadProfile(setting.ws_ip, compensated_Spectrum.frequency, -(compensated_Spectrum.powerdensity), compensated_Spectrum.phase, filterPort)\n",
    "\n",
    "        ## pump off\n",
    "        servo_shutter(port=setting.shutter_port).close([setting.pumpShutterPort])\n",
    "        ## osc_com\n",
    "        osc_handler = MSO58Wrapper(setting.mso58_address)\n",
    "        osc_handler.push_single()\n",
    "        t, w = None, None\n",
    "        while True:\n",
    "            try:\n",
    "                t, w = osc_handler.transfer2byte(setting.homodyne_port)\n",
    "                break\n",
    "            except:\n",
    "                sleep(1)\n",
    "                continue\n",
    "        ## quad\n",
    "        quadratures = quad(w, setting.fastFramePulseNum, setting.quadrature_method)\n",
    "        ## eval_shotnoise\n",
    "        shot_var = quadratures.var()\n",
    "\n",
    "        ## pump on\n",
    "        servo_shutter(port=setting.shutter_port).open([setting.pumpShutterPort])\n",
    "        ## osc_com\n",
    "        osc_handler = MSO58Wrapper(setting.mso58_address)\n",
    "        osc_handler.push_single()\n",
    "        t, w = None, None\n",
    "        while True:\n",
    "            try:\n",
    "                t, w = osc_handler.transfer2byte(setting.homodyne_port)\n",
    "                break\n",
    "            except:\n",
    "                sleep(1)\n",
    "                continue\n",
    "        ## quad\n",
    "        quadratures = quad(w, setting.fastFramePulseNum, setting.quadrature_method)\n",
    "        ## eval_squeeze\n",
    "        squeeze_var = quadratures.var()\n",
    "        ## recording\n",
    "        with open(setting.param_csv, 'a', newline = \"\") as f:\n",
    "            headersCSV = ['center_wavelength', 'bandwidth', 'dispersion','LOpower', 'shotnoise', 'squeeze', 'diff']\n",
    "            dict = {\n",
    "                'center_wavelength': center_wavelength,\n",
    "                'bandwidth'        : band_width,\n",
    "                'dispersion'       : dispersion,\n",
    "                'LOpower'          : total_power,\n",
    "                'shotnoise'        : 10*np.log(shot_var),\n",
    "                'squeeze'          : 10*np.log(squeeze_var),\n",
    "                'diff'             : 10*np.log(squeeze_var) - 10*np.log(shot_var)\n",
    "            }\n",
    "            dictwriter_object = DictWriter(f, fieldnames=headersCSV)\n",
    "            dictwriter_object.writerow(dict)\n",
    "        print(dict)"
   ]
  },
  {
   "cell_type": "code",
   "execution_count": 49,
   "metadata": {},
   "outputs": [
    {
     "name": "stdout",
     "output_type": "stream",
     "text": [
      "TEKTRONIX,MSO64B,C043144,CF:91.1CT FV:1.34.8.1078\n",
      "\n"
     ]
    }
   ],
   "source": [
    "loop()"
   ]
  },
  {
   "cell_type": "code",
   "execution_count": 1,
   "metadata": {},
   "outputs": [],
   "source": [
    "import numpy as np"
   ]
  },
  {
   "cell_type": "code",
   "execution_count": 8,
   "metadata": {},
   "outputs": [
    {
     "data": {
      "text/plain": [
       "array([[-0.00000000e+00, -4.11558025e-01, -3.70537109e-01, ...,\n",
       "         7.01548312e-01,  4.31496625e-01, -1.66272119e-15],\n",
       "       [-0.00000000e+00,  1.27678304e+00, -1.40614160e+00, ...,\n",
       "        -2.09467106e+00,  3.12234318e-01, -1.30105612e-15],\n",
       "       [-0.00000000e+00, -4.01173228e-01, -1.55685328e+00, ...,\n",
       "         2.25902390e+00, -1.76398872e-01,  5.73058395e-16],\n",
       "       ...,\n",
       "       [ 0.00000000e+00,  4.09368909e-01, -1.87631159e-01, ...,\n",
       "        -5.97718365e-01, -1.78037253e+00, -1.08516704e-15],\n",
       "       [ 0.00000000e+00, -1.12601798e+00,  4.78696900e-01, ...,\n",
       "        -3.84147211e-01,  2.48201918e-01, -7.59658802e-16],\n",
       "       [ 0.00000000e+00,  7.76224194e-02,  2.04023614e+00, ...,\n",
       "        -3.09129852e+00, -8.96790622e-01,  8.98712994e-16]])"
      ]
     },
     "execution_count": 8,
     "metadata": {},
     "output_type": "execute_result"
    }
   ],
   "source": [
    "np.random.randn(1000,30) * 10* np.sin( np.pi*np.linspace(0,1,30))"
   ]
  },
  {
   "cell_type": "code",
   "execution_count": 11,
   "metadata": {},
   "outputs": [],
   "source": [
    "some = lambda volts: PCA().fit_transform(volts.reshape((-1,volts.shape[-1])))[:,0].reshape(volts.shape[:-1])"
   ]
  },
  {
   "cell_type": "code",
   "execution_count": 27,
   "metadata": {},
   "outputs": [
    {
     "data": {
      "text/plain": [
       "110.20457365517642"
      ]
     },
     "execution_count": 27,
     "metadata": {},
     "output_type": "execute_result"
    }
   ],
   "source": [
    "np.var(some(np.random.randn(1000,30) * 10* np.sin( np.pi*np.linspace(0,1,30))))"
   ]
  },
  {
   "cell_type": "code",
   "execution_count": null,
   "metadata": {},
   "outputs": [],
   "source": []
  }
 ],
 "metadata": {
  "kernelspec": {
   "display_name": "Python 3.9.0 64-bit",
   "language": "python",
   "name": "python3"
  },
  "language_info": {
   "codemirror_mode": {
    "name": "ipython",
    "version": 3
   },
   "file_extension": ".py",
   "mimetype": "text/x-python",
   "name": "python",
   "nbconvert_exporter": "python",
   "pygments_lexer": "ipython3",
   "version": "3.9.0"
  },
  "orig_nbformat": 4,
  "vscode": {
   "interpreter": {
    "hash": "4b4f216789f43f43ecc591a377bc2a7b5f02c99d00f656b444c8198c606cc60c"
   }
  }
 },
 "nbformat": 4,
 "nbformat_minor": 2
}
