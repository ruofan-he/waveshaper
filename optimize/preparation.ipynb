{
 "cells": [
  {
   "cell_type": "code",
   "execution_count": 4,
   "metadata": {},
   "outputs": [],
   "source": [
    "import vxi11\n",
    "from WSMethods import getWSrange\n",
    "import numpy as np\n",
    "import plotly.express as px\n",
    "import plotly.graph_objects as go\n",
    "from plotly.subplots import make_subplots"
   ]
  },
  {
   "cell_type": "code",
   "execution_count": null,
   "metadata": {},
   "outputs": [],
   "source": [
    "class wrapper:\n",
    "    def __init__(self, instrument: vxi11.Instrument):\n",
    "        self.instr = instrument\n",
    "\n",
    "    def __enter__(self):\n",
    "        return self.instr\n",
    "\n",
    "    def __exit__(self, ex_type, ex_value, trace):\n",
    "        self.instr.close()\n",
    "\n",
    "\n",
    "def setOSArange(osa_ip: str, startFreq, endFreq):\n",
    "    \"\"\"startFreq < endFreq\n",
    "    \"\"\"\n",
    "    assert startFreq <= endFreq\n",
    "    with wrapper(vxi11.Instrument(osa_ip)) as instr:\n",
    "        instr.write(f':SENSe:WAVelength:STARt {float(endFreq)}THZ') # short wavelength\n",
    "        instr.write(f':SENSe:WAVelength:STOP {float(startFreq)}THZ') # long wavelength\n",
    "\n",
    "def getOSA(osa_ip: str, trace_name):\n",
    "    c = 299792458\n",
    "\n",
    "    with wrapper(vxi11.Instrument(osa_ip)) as instr:# 真空の光速\n",
    "        instr.write(':SENSE:CORRECTION:RVELOCITY:MEDIUM VACUUM')\n",
    "\n",
    "    with wrapper(vxi11.Instrument(osa_ip)) as instr:\n",
    "        instr.write(':UNIT:X WAVelength')\n",
    "    # 基本的にどのように設定しようが、波長単位でデータが帰ってくるので関係なし\n",
    "    \n",
    "\n",
    "    #光スペアナのx軸（波長）取得\n",
    "    with wrapper(vxi11.Instrument(osa_ip) ) as instr:\n",
    "        wavelength = instr.ask(':TRACe:X? '+trace_name)\n",
    "        wavelength = wavelength.split(',')\n",
    "        wavelength = [float(ii) for ii in wavelength]\n",
    "        wavelength = np.array(wavelength)# m\n",
    "\n",
    "    freq = c/wavelength/1E12 # THz\n",
    "\n",
    "    #光スペアナのy軸（dBm/nm）取得\n",
    "    with wrapper(vxi11.Instrument(osa_ip)) as instr:\n",
    "        pnbw = instr.ask(':CALCULATE:MATH:TRF:PNBW:BAND?')#正規化帯域幅\n",
    "\n",
    "    with wrapper(vxi11.Instrument(osa_ip)) as instr:\n",
    "        data = instr.ask(':TRACe:Y:PDENsity? '+trace_name+',0.1nm')\n",
    "        data = data.split(',')\n",
    "        data = [float(ii) for ii in data]\n",
    "        data = np.array(data)\n",
    "\n",
    "    optWavelength = wavelength\n",
    "    optFreq = freq\n",
    "    optSpectrum = data\n",
    "    \n",
    "    \n",
    "    return optWavelength, optFreq, optSpectrum\n"
   ]
  },
  {
   "cell_type": "code",
   "execution_count": null,
   "metadata": {},
   "outputs": [],
   "source": [
    "ws_ip  = '169.254.6.8'\n",
    "osa_ip = \"169.254.6.9\"\n",
    "trace_name = \"TRB\"\n",
    "c = 299792458 # m/s\n",
    "\n",
    "\n",
    "\n",
    "# ルーチン\n",
    "startFreq, endFreq = getWSrange(ws_ip)\n",
    "setOSArange(osa_ip, startFreq, endFreq)\n",
    "optWavelength, optFreq, optSpectrum = getOSA(osa_ip, trace_name)\n",
    "np.save('optFreq.npy', optFreq)\n",
    "np.save('optSpectrum.npy', optSpectrum)\n",
    "np.save('optWavelength', optWavelength)"
   ]
  },
  {
   "cell_type": "code",
   "execution_count": null,
   "metadata": {},
   "outputs": [],
   "source": [
    "fig = make_subplots(rows=1, cols=2, subplot_titles=(\"power\", \"phase\"))\n",
    "go_element = lambda x,y,name: go.Scatter(x=x,y=y,mode='lines',name=name)\n",
    "fig.add_trace(go_element(optFreq, optSpectrum, 'optSpectrum'), row=1, col=1)\n",
    "fig.update_xaxes(title_text=\"Freq\", row=1, col=1)\n",
    "fig.update_yaxes(title_text=\"power\", row=1, col=1)\n",
    "fig.update_xaxes(title_text=\"Freq\", row=1, col=2)\n",
    "fig.update_yaxes(title_text=\"Phase\", row=1, col=2)"
   ]
  }
 ],
 "metadata": {
  "kernelspec": {
   "display_name": "Python 3.9.0 64-bit",
   "language": "python",
   "name": "python3"
  },
  "language_info": {
   "codemirror_mode": {
    "name": "ipython",
    "version": 3
   },
   "file_extension": ".py",
   "mimetype": "text/x-python",
   "name": "python",
   "nbconvert_exporter": "python",
   "pygments_lexer": "ipython3",
   "version": "3.9.0"
  },
  "orig_nbformat": 4,
  "vscode": {
   "interpreter": {
    "hash": "4b4f216789f43f43ecc591a377bc2a7b5f02c99d00f656b444c8198c606cc60c"
   }
  }
 },
 "nbformat": 4,
 "nbformat_minor": 2
}
