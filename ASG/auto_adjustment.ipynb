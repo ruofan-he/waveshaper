{
 "cells": [
  {
   "cell_type": "code",
   "execution_count": 1,
   "metadata": {},
   "outputs": [],
   "source": [
    "#ライブラリ読み込み\n",
    "import requests\n",
    "import json\n",
    "import os\n",
    "from WSMethods import uploadPredefinedProfile, uploadProfile, splitWspString\n",
    "import numpy as np\n",
    "import pandas as pd\n",
    "from matplotlib import pyplot as plt\n",
    "from scipy.interpolate import interp1d\n",
    "import pyvisa"
   ]
  },
  {
   "cell_type": "markdown",
   "metadata": {},
   "source": [
    "スペアナ部"
   ]
  },
  {
   "cell_type": "code",
   "execution_count": 13,
   "metadata": {},
   "outputs": [],
   "source": [
    "rm = pyvisa.ResourceManager()\n",
    "\n",
    "speana_address = \"-------\"\n",
    "\n",
    "with rm.open_resource(speana_address) as instr:\n",
    "    print(instr.query(\"*IDN?\"))"
   ]
  },
  {
   "cell_type": "code",
   "execution_count": null,
   "metadata": {},
   "outputs": [],
   "source": []
  },
  {
   "cell_type": "code",
   "execution_count": null,
   "metadata": {},
   "outputs": [],
   "source": [
    "def getOSA(address, trace_name):\n",
    "    c = 299792458\n",
    "\n",
    "    #光スペアナのx軸（波長）取得\n",
    "\n",
    "    rm = pyvisa.ResourceManager()\n",
    "    \n",
    "    with rm.open_resource(address) as instr:\n",
    "        wavelength = instr.query(':TRACe:X? '+trace_name)\n",
    "        wavelength = wavelength.split(',')\n",
    "        wavelength = [float(ii) for ii in wavelength]\n",
    "        wavelength = np.array(wavelength)#m\n",
    "\n",
    "    freq = [c/ii/10**12 for ii in wavelength]#THz\n",
    "\n",
    "\n",
    "    #光スペアナのy軸（dBm/nm）取得\n",
    "    with rm.open_resource(address) as instr:\n",
    "        nrf = instr.query(':CALCULATE:MATH:TRF:PNBW:BAND?')#正規化帯域幅\n",
    "    #print(nrf)#0.1という数値が出てくるものの何のため？\n",
    "\n",
    "\n",
    "    with rm.open_resource(address) as instr:\n",
    "        data = instr.query(':TRACe:Y:PDENsity? '+trace_name+',1nm')\n",
    "        data = data.split(',')\n",
    "        data = [float(ii) for ii in data]\n",
    "        data = np.array(data)\n",
    "\n",
    "    optFreq = freq\n",
    "    optSpectrum = data\n",
    "\n",
    "    optFreq = optFreq[::-1]\n",
    "    optSpectrum = optSpectrum[::-1]\n",
    "\n",
    "    optFreq = np.hstack((s-0.05,optFreq))\n",
    "    optFreq = np.hstack((optFreq,e+0.05))\n",
    "    optSpectrum = np.hstack((optSpectrum[0],optSpectrum))\n",
    "    optSpectrum = np.hstack((optSpectrum,optSpectrum[-1]))\n",
    "    \n",
    "    return optFreq,optSpectrum"
   ]
  },
  {
   "cell_type": "code",
   "execution_count": null,
   "metadata": {},
   "outputs": [],
   "source": [
    "optFreq, optSpectrum = getOSA(speana_address, 'TRA') #たぶんdB単位で出てくるみたい\n",
    "plt.plot(optFreq, optSpectrum)\n",
    "\n",
    "\n"
   ]
  },
  {
   "cell_type": "code",
   "execution_count": null,
   "metadata": {},
   "outputs": [],
   "source": []
  }
 ],
 "metadata": {
  "interpreter": {
   "hash": "f3d6880e971136672eb146ac1a335bb0d2e6e6df1f6863106add56b7c821b896"
  },
  "kernelspec": {
   "display_name": "Python 3.9.0 64-bit",
   "language": "python",
   "name": "python3"
  },
  "language_info": {
   "codemirror_mode": {
    "name": "ipython",
    "version": 3
   },
   "file_extension": ".py",
   "mimetype": "text/x-python",
   "name": "python",
   "nbconvert_exporter": "python",
   "pygments_lexer": "ipython3",
   "version": "3.9.0"
  },
  "orig_nbformat": 4
 },
 "nbformat": 4,
 "nbformat_minor": 2
}
