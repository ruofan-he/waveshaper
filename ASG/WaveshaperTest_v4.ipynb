{
 "cells": [
  {
   "cell_type": "code",
   "execution_count": 1,
   "metadata": {},
   "outputs": [],
   "source": [
    "import requests\n",
    "import json\n",
    "import os\n",
    "from WSMethods import *\n",
    "import numpy as np\n",
    "import pandas as pd\n",
    "from matplotlib import pyplot as plt\n",
    "from scipy.interpolate import interp1d\n",
    "import vxi11\n",
    "import math\n"
   ]
  },
  {
   "cell_type": "code",
   "execution_count": 2,
   "metadata": {},
   "outputs": [],
   "source": [
    "#光スペアナ接続\n",
    "instr =  vxi11.Instrument(\"169.254.6.1\")\n",
    "print(instr.ask(\"*IDN?\"))\n",
    "\n"
   ]
  },
  {
   "cell_type": "code",
   "execution_count": 2,
   "metadata": {},
   "outputs": [],
   "source": [
    "#Waveshaper接続\n",
    "# Define device IP\n",
    "ip = '169.254.6.8'\n",
    "# Get device info \n",
    "result = requests.get('http://' + ip + '/waveshaper/devinfo').json()\n",
    "\n",
    "#print(result)\n",
    "# Set frequency variables from device info\n",
    "s = result['startfreq']\n",
    "e = result['stopfreq']"
   ]
  },
  {
   "cell_type": "code",
   "execution_count": 117,
   "metadata": {
    "scrolled": true
   },
   "outputs": [],
   "source": [
    "def getOSA(trace_name):\n",
    "    c = 299792458\n",
    "\n",
    "    #光スペアナのx軸（波長）取得\n",
    "    wavelength = instr.ask(':TRACe:X? '+trace_name)\n",
    "    wavelength = wavelength.split(',')\n",
    "    wavelength = [float(ii) for ii in wavelength]\n",
    "    #print(wavelength[0])\n",
    "    wavelength = np.array(wavelength)#m\n",
    "\n",
    "    freq = [c/ii/10**12 for ii in wavelength]#THz\n",
    "    #print(freq[0])\n",
    "    #print(freq[-1])\n",
    "\n",
    "    #光スペアナのy軸（dBm/nm）取得\n",
    "    nrf = instr.ask(':CALCULATE:MATH:TRF:PNBW:BAND?')#正規化帯域幅\n",
    "    #print(nrf)#0.1という数値が出てくるものの何のため？\n",
    "\n",
    "    data = instr.ask(':TRACe:Y:PDENsity? '+trace_name+',1nm')\n",
    "    data = data.split(',')\n",
    "    data = [float(ii) for ii in data]\n",
    "    data = np.array(data)\n",
    "\n",
    "    optFreq = freq\n",
    "    optSpectrum = data\n",
    "\n",
    "    optFreq = optFreq[::-1]\n",
    "    optSpectrum = optSpectrum[::-1]\n",
    "\n",
    "    optFreq = np.hstack((s-0.05,optFreq))\n",
    "    optFreq = np.hstack((optFreq,e+0.05))\n",
    "    optSpectrum = np.hstack((optSpectrum[0],optSpectrum))\n",
    "    optSpectrum = np.hstack((optSpectrum,optSpectrum[-1]))\n",
    "    \n",
    "    return optFreq,optSpectrum"
   ]
  },
  {
   "cell_type": "code",
   "execution_count": 118,
   "metadata": {},
   "outputs": [
    {
     "name": "stdout",
     "output_type": "stream",
     "text": [
      "0.0004989294222355056\n"
     ]
    },
    {
     "data": {
      "image/png": "[encoded data removed]",
      "text/plain": [
       "<Figure size 432x288 with 1 Axes>"
      ]
     },
     "metadata": {
      "needs_background": "light"
     },
     "output_type": "display_data"
    }
   ],
   "source": [
    "optFreq,optSpectrum = getOSA('TRA')\n",
    "plt.plot(optFreq, optSpectrum)\n",
    "print(optFreq[2] - optFreq[1])"
   ]
  },
  {
   "cell_type": "code",
   "execution_count": 62,
   "metadata": {},
   "outputs": [
    {
     "name": "stdout",
     "output_type": "stream",
     "text": [
      "2503\n",
      "2501\n"
     ]
    }
   ],
   "source": [
    "#1.76GHz\n",
    "print(len(optFreq))\n",
    "mod_freq = optFreq[1:-1]\n",
    "print(len(mod_freq))\n",
    "mod_freq = mod_freq+0.00176\n",
    "mod_optFreq = np.hstack((optFreq[0],mod_freq))\n",
    "mod_optFreq = np.hstack((mod_optFreq,optFreq[-1]))"
   ]
  },
  {
   "cell_type": "code",
   "execution_count": 119,
   "metadata": {},
   "outputs": [
    {
     "name": "stdout",
     "output_type": "stream",
     "text": [
      "0.0004989294222355056\n"
     ]
    },
    {
     "data": {
      "image/png": "[encoded data removed]",
      "text/plain": [
       "<Figure size 432x288 with 1 Axes>"
      ]
     },
     "metadata": {
      "needs_background": "light"
     },
     "output_type": "display_data"
    }
   ],
   "source": [
    "optFreq_main,optSpectrum_main = getOSA('TRE')\n",
    "plt.plot(optFreq_main, optSpectrum_main)\n",
    "print(optFreq_main[2] - optFreq_main[1])"
   ]
  },
  {
   "cell_type": "code",
   "execution_count": 17,
   "metadata": {},
   "outputs": [],
   "source": [
    "targetAttn = optSpectrum_main-optSpectrum\n",
    "minAttn = min(targetAttn)\n",
    "\n",
    "new_targetAttn = targetAttn\n",
    "# new_targetAttn = np.zeros(len(targetAttn))\n",
    "# for ii in range(len(targetAttn)):\n",
    "#     if targetAttn[ii] > minAttn+15:\n",
    "#         new_targetAttn[ii] = 60\n",
    "#     else:\n",
    "#         new_targetAttn[ii] = targetAttn[ii]\n"
   ]
  },
  {
   "cell_type": "code",
   "execution_count": 227,
   "metadata": {},
   "outputs": [
    {
     "name": "stdout",
     "output_type": "stream",
     "text": [
      "-30.704674\n"
     ]
    },
    {
     "name": "stderr",
     "output_type": "stream",
     "text": [
      "<ipython-input-227-317e12d53a9d>:6: RuntimeWarning: divide by zero encountered in log10\n",
      "  return 10*np.log10(amp_gauss*np.exp(-((freq-center_gauss)/width_gauss)**2))\n"
     ]
    },
    {
     "data": {
      "image/png": "[encoded data removed]",
      "text/plain": [
       "<Figure size 432x288 with 1 Axes>"
      ]
     },
     "metadata": {
      "needs_background": "light"
     },
     "output_type": "display_data"
    }
   ],
   "source": [
    "center_gauss = 194#THz\n",
    "width_gauss = 0.05#THz\n",
    "amp_gauss = 10**(min(optSpectrum_main)/10)\n",
    "print(10*np.log10(amp_gauss))\n",
    "def optSpectrum_gauss_log(freq):\n",
    "    return 10*np.log10(amp_gauss*np.exp(-((freq-center_gauss)/width_gauss)**2))\n",
    "\n",
    "gauss = optSpectrum_gauss_log(optFreq)\n",
    "plt.plot(optFreq,gauss)\n",
    "plt.plot(optFreq,optSpectrum_main)\n",
    "plt.ylim([-80,-25])\n",
    "plt.show()"
   ]
  },
  {
   "cell_type": "code",
   "execution_count": 6,
   "metadata": {},
   "outputs": [
    {
     "ename": "NameError",
     "evalue": "name 'optSpectrum_main' is not defined",
     "output_type": "error",
     "traceback": [
      "\u001b[1;31m---------------------------------------------------------------------------\u001b[0m",
      "\u001b[1;31mNameError\u001b[0m                                 Traceback (most recent call last)",
      "\u001b[1;32m<ipython-input-6-bf042df9adac>\u001b[0m in \u001b[0;36m<module>\u001b[1;34m\u001b[0m\n\u001b[1;32m----> 1\u001b[1;33m \u001b[0mtargetAttn\u001b[0m \u001b[1;33m=\u001b[0m \u001b[0moptSpectrum_main\u001b[0m\u001b[1;33m-\u001b[0m\u001b[0mgauss\u001b[0m\u001b[1;33m\u001b[0m\u001b[1;33m\u001b[0m\u001b[0m\n\u001b[0m\u001b[0;32m      2\u001b[0m \u001b[0mminAttn\u001b[0m \u001b[1;33m=\u001b[0m \u001b[0mmin\u001b[0m\u001b[1;33m(\u001b[0m\u001b[0mtargetAttn\u001b[0m\u001b[1;33m)\u001b[0m\u001b[1;33m\u001b[0m\u001b[1;33m\u001b[0m\u001b[0m\n\u001b[0;32m      3\u001b[0m \u001b[1;33m\u001b[0m\u001b[0m\n\u001b[0;32m      4\u001b[0m \u001b[0mnew_targetAttn\u001b[0m \u001b[1;33m=\u001b[0m \u001b[0mtargetAttn\u001b[0m\u001b[1;33m\u001b[0m\u001b[1;33m\u001b[0m\u001b[0m\n",
      "\u001b[1;31mNameError\u001b[0m: name 'optSpectrum_main' is not defined"
     ]
    }
   ],
   "source": [
    "targetAttn = optSpectrum_main-gauss\n",
    "minAttn = min(targetAttn)\n",
    "\n",
    "new_targetAttn = targetAttn"
   ]
  },
  {
   "cell_type": "code",
   "execution_count": 3,
   "metadata": {},
   "outputs": [
    {
     "name": "stdout",
     "output_type": "stream",
     "text": [
      "191.05\n",
      "196.475\n",
      "[191.05  191.051 191.052 ... 196.473 196.474 196.475]\n"
     ]
    }
   ],
   "source": [
    "print(s)\n",
    "print(e)\n",
    "wsFreq = np.arange(s, e + 0.001, 0.001)\n",
    "print(wsFreq)"
   ]
  },
  {
   "cell_type": "code",
   "execution_count": 230,
   "metadata": {},
   "outputs": [],
   "source": [
    "#f = interp1d(optFreq, optSpectrum, kind='linear')\n",
    "f = interp1d(mod_optFreq, new_targetAttn, kind='linear')\n",
    "\n",
    "optSpectrumInterp = f(wsFreq)\n",
    "maxPower = max(optSpectrumInterp)\n",
    "normPower = -4\n",
    "calb = 0 # yokuwakaranai\n"
   ]
  },
  {
   "cell_type": "code",
   "execution_count": 231,
   "metadata": {},
   "outputs": [
    {
     "data": {
      "text/plain": [
       "<matplotlib.collections.PathCollection at 0x1a44d4fa820>"
      ]
     },
     "execution_count": 231,
     "metadata": {},
     "output_type": "execute_result"
    },
    {
     "data": {
      "image/png": "[encoded data removed]",
      "text/plain": [
       "<Figure size 432x288 with 1 Axes>"
      ]
     },
     "metadata": {
      "needs_background": "light"
     },
     "output_type": "display_data"
    }
   ],
   "source": [
    "#plt.scatter(wsFreq, ((optSpectrumInterp - maxPower) - normPower)  - calb,s=1)\n",
    "plt.scatter(wsFreq, optSpectrumInterp,s=1)"
   ]
  },
  {
   "cell_type": "code",
   "execution_count": 4,
   "metadata": {},
   "outputs": [
    {
     "ename": "NameError",
     "evalue": "name 'optSpectrumInterp' is not defined",
     "output_type": "error",
     "traceback": [
      "\u001b[1;31m---------------------------------------------------------------------------\u001b[0m",
      "\u001b[1;31mNameError\u001b[0m                                 Traceback (most recent call last)",
      "\u001b[1;32m<ipython-input-4-281dab6a3fbc>\u001b[0m in \u001b[0;36m<module>\u001b[1;34m\u001b[0m\n\u001b[0;32m      1\u001b[0m \u001b[1;31m#wsAttn = (optSpectrumInterp - maxPower) - normPower - calb\u001b[0m\u001b[1;33m\u001b[0m\u001b[1;33m\u001b[0m\u001b[1;33m\u001b[0m\u001b[0m\n\u001b[0;32m      2\u001b[0m \u001b[1;31m#test = [min(ii,-60) for ii in optSpectrumInterp]\u001b[0m\u001b[1;33m\u001b[0m\u001b[1;33m\u001b[0m\u001b[1;33m\u001b[0m\u001b[0m\n\u001b[1;32m----> 3\u001b[1;33m \u001b[0mwsAttn\u001b[0m \u001b[1;33m=\u001b[0m \u001b[0moptSpectrumInterp\u001b[0m\u001b[1;33m\u001b[0m\u001b[1;33m\u001b[0m\u001b[0m\n\u001b[0m\u001b[0;32m      4\u001b[0m \u001b[1;31m# wsPhase = np.random.rand(wsFreq.shape[0])\u001b[0m\u001b[1;33m\u001b[0m\u001b[1;33m\u001b[0m\u001b[1;33m\u001b[0m\u001b[0m\n\u001b[0;32m      5\u001b[0m \u001b[1;31m# wsPhase = wsPhase*2*math.pi\u001b[0m\u001b[1;33m\u001b[0m\u001b[1;33m\u001b[0m\u001b[1;33m\u001b[0m\u001b[0m\n",
      "\u001b[1;31mNameError\u001b[0m: name 'optSpectrumInterp' is not defined"
     ]
    }
   ],
   "source": [
    "#wsAttn = (optSpectrumInterp - maxPower) - normPower - calb\n",
    "#test = [min(ii,-60) for ii in optSpectrumInterp]\n",
    "wsAttn = optSpectrumInterp\n",
    "# wsPhase = np.random.rand(wsFreq.shape[0])\n",
    "# wsPhase = wsPhase*2*math.pi\n",
    "wsPhase = np.zeros(wsFreq.shape)\n",
    "#print(wsPhase)\n",
    "dispersion = 3.4*10**3\n",
    "wsPhase = [dispersion*(1-f/194)**2 for f in wsFreq]\n",
    "wsPhase = np.array(wsPhase)\n",
    "#print(wsPhase)\n",
    "wsPort = np.ones(wsFreq.shape)\n",
    "# Upload profile using created data\n",
    "r = uploadProfile(ip, wsFreq, wsAttn, wsPhase, wsPort)"
   ]
  },
  {
   "cell_type": "code",
   "execution_count": 233,
   "metadata": {},
   "outputs": [],
   "source": [
    "#np.savetxt(\"test.wsp\", )\n",
    "instr.close()"
   ]
  },
  {
   "cell_type": "code",
   "execution_count": 17,
   "metadata": {},
   "outputs": [
    {
     "name": "stderr",
     "output_type": "stream",
     "text": [
      "<ipython-input-17-9e41cb38fec0>:6: RuntimeWarning: divide by zero encountered in log10\n",
      "  return 10*np.log10(np.exp(-((freq-freq1)/width_gauss)**2))\n"
     ]
    },
    {
     "data": {
      "image/png": "[encoded data removed]",
      "text/plain": [
       "<Figure size 432x288 with 1 Axes>"
      ]
     },
     "metadata": {
      "needs_background": "light"
     },
     "output_type": "display_data"
    }
   ],
   "source": [
    "# single band pass filter \n",
    "freq1 = 194.5\n",
    "width_gauss = 0.07\n",
    "\n",
    "def optSpectrum_single_gauss_log(freq, freq1, width_gauss):\n",
    "    return 10*np.log10(np.exp(-((freq-freq1)/width_gauss)**2))\n",
    "\n",
    "single_gauss_filter = optSpectrum_single_gauss_log(wsFreq, freq1, width_gauss)\n",
    "\n",
    "plt.plot(wsFreq,-single_gauss_filter)\n",
    "\n",
    "plt.show()"
   ]
  },
  {
   "cell_type": "code",
   "execution_count": 23,
   "metadata": {},
   "outputs": [],
   "source": [
    "# Upload profile using created data\n",
    "#wsPhase = np.zeros(wsFreq.shape)\n",
    "#dispersion = 3.4*10**5\n",
    "dispersion = 3.4*10**2\n",
    "wsPhase = [dispersion*(1-f/194)**2 for f in wsFreq]\n",
    "wsPhase = np.array(wsPhase)\n",
    "\n",
    "wsPort = np.ones(wsFreq.shape)\n",
    "r = uploadProfile(ip, wsFreq, np.array(-single_gauss_filter), wsPhase, wsPort)"
   ]
  },
  {
   "cell_type": "code",
   "execution_count": 27,
   "metadata": {},
   "outputs": [
    {
     "name": "stderr",
     "output_type": "stream",
     "text": [
      "<ipython-input-27-b3c7526da69a>:7: RuntimeWarning: divide by zero encountered in log10\n",
      "  return 10*np.log10(np.exp(-((freq-freq1)/width_gauss)**2) + np.exp(-((freq-freq2)/width_gauss)**2))\n"
     ]
    },
    {
     "data": {
      "image/png": "[encoded data removed]",
      "text/plain": [
       "<Figure size 432x288 with 1 Axes>"
      ]
     },
     "metadata": {
      "needs_background": "light"
     },
     "output_type": "display_data"
    }
   ],
   "source": [
    "# double band pass filter \n",
    "freq1 = 193.5\n",
    "freq2 = 194.5\n",
    "width_gauss = 0.01\n",
    "\n",
    "def optSpectrum_double_gauss_log(freq, freq1, freq2, width_gauss):\n",
    "    return 10*np.log10(np.exp(-((freq-freq1)/width_gauss)**2) + np.exp(-((freq-freq2)/width_gauss)**2))\n",
    "\n",
    "double_gauss_filter = optSpectrum_double_gauss_log(wsFreq, freq1, freq2, width_gauss)\n",
    "\n",
    "plt.plot(wsFreq,-double_gauss_filter)\n",
    "plt.xlim([191.05,196.47])\n",
    "plt.show()"
   ]
  },
  {
   "cell_type": "code",
   "execution_count": 20,
   "metadata": {},
   "outputs": [],
   "source": [
    "# Upload profile using created data\n",
    "wsPhase = np.zeros(wsFreq.shape)\n",
    "#print(wsPhase)\n",
    "wsPort = np.ones(wsFreq.shape)\n",
    "r = uploadProf\n",
    "\n",
    "ile(ip, wsFreq, np.array(-double_gauss_filter), wsPhase, wsPort)"
   ]
  },
  {
   "cell_type": "code",
   "execution_count": null,
   "metadata": {},
   "outputs": [],
   "source": []
  }
 ],
 "metadata": {
  "kernelspec": {
   "display_name": "Python 3",
   "language": "python",
   "name": "python3"
  },
  "language_info": {
   "codemirror_mode": {
    "name": "ipython",
    "version": 3
   },
   "file_extension": ".py",
   "mimetype": "text/x-python",
   "name": "python",
   "nbconvert_exporter": "python",
   "pygments_lexer": "ipython3",
   "version": "3.8.8"
  }
 },
 "nbformat": 4,
 "nbformat_minor": 2
}
