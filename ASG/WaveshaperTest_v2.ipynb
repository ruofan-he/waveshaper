{
 "cells": [
  {
   "cell_type": "code",
   "execution_count": 79,
   "metadata": {},
   "outputs": [],
   "source": [
    "import requests\n",
    "import json\n",
    "import os\n",
    "from WSMethods import *\n",
    "import numpy as np\n",
    "import pandas as pd\n",
    "from matplotlib import pyplot as plt\n",
    "from scipy.interpolate import interp1d\n",
    "import vxi11\n",
    "import math"
   ]
  },
  {
   "cell_type": "code",
   "execution_count": 80,
   "metadata": {},
   "outputs": [
    {
     "name": "stdout",
     "output_type": "stream",
     "text": [
      "YOKOGAWA,AQ6370D,91X206982,02.07\n",
      "{'extmodel': '', 'ip': '169.254.6.8', 'model': '1000A', 'msg': 'OK', 'partno': '1247895', 'portcount': 1, 'sno': '201673', 'startfreq': 191.05, 'stopfreq': 196.475, 'ver': '1.3.1'}\n"
     ]
    }
   ],
   "source": [
    "#光スペアナ接続\n",
    "instr =  vxi11.Instrument(\"169.254.6.1\")\n",
    "print(instr.ask(\"*IDN?\"))\n",
    "\n",
    "#Waveshaper接続\n",
    "# Define device IP\n",
    "ip = '169.254.6.8'\n",
    "# Get device info \n",
    "result = requests.get('http://' + ip + '/waveshaper/devinfo').json()\n",
    "\n",
    "print(result)\n",
    "# Set frequency variables from device info\n",
    "s = result['startfreq']\n",
    "e = result['stopfreq']"
   ]
  },
  {
   "cell_type": "code",
   "execution_count": 81,
   "metadata": {
    "scrolled": true
   },
   "outputs": [
    {
     "name": "stdout",
     "output_type": "stream",
     "text": [
      "1.54032e-06\n",
      "194.62998467850838\n",
      "193.3745665411012\n",
      "+1.00000000E-010\n"
     ]
    }
   ],
   "source": [
    "c = 299792458\n",
    "\n",
    "#光スペアナのx軸（波長）取得\n",
    "wavelength = instr.ask(':TRACe:X? TRA')\n",
    "wavelength = wavelength.split(',')\n",
    "wavelength = [float(ii) for ii in wavelength]\n",
    "print(wavelength[0])\n",
    "wavelength = np.array(wavelength)#m\n",
    "\n",
    "freq = [c/ii/10**12 for ii in wavelength]#THz\n",
    "print(freq[0])\n",
    "print(freq[-1])\n",
    "\n",
    "#光スペアナのy軸（dBm/nm）取得\n",
    "nrf = instr.ask(':CALCULATE:MATH:TRF:PNBW:BAND?')#正規化帯域幅\n",
    "print(nrf)#0.1という数値が出てくるものの何のため？\n",
    "\n",
    "data = instr.ask(':TRACe:Y:PDENsity? tra,1nm')\n",
    "data = data.split(',')\n",
    "data = [float(ii) for ii in data]\n",
    "data = np.array(data)\n",
    "\n",
    "optFreq = freq\n",
    "optSpectrum = data\n",
    "\n",
    "optFreq = optFreq[::-1]\n",
    "optSpectrum = optSpectrum[::-1]\n",
    "\n",
    "optFreq = np.hstack((s-0.05,optFreq))\n",
    "optFreq = np.hstack((optFreq,e+0.05))\n",
    "optSpectrum = np.hstack((optSpectrum[0],optSpectrum))\n",
    "optSpectrum = np.hstack((optSpectrum,optSpectrum[-1]))"
   ]
  },
  {
   "cell_type": "code",
   "execution_count": 82,
   "metadata": {},
   "outputs": [
    {
     "name": "stdout",
     "output_type": "stream",
     "text": [
      "0.0004989294222355056\n"
     ]
    },
    {
     "data": {
      "image/png": "[encoded data removed]",
      "text/plain": [
       "<Figure size 432x288 with 1 Axes>"
      ]
     },
     "metadata": {
      "needs_background": "light"
     },
     "output_type": "display_data"
    }
   ],
   "source": [
    "plt.plot(optFreq, optSpectrum)\n",
    "print(optFreq[2] - optFreq[1])"
   ]
  },
  {
   "cell_type": "code",
   "execution_count": 83,
   "metadata": {},
   "outputs": [
    {
     "name": "stdout",
     "output_type": "stream",
     "text": [
      "191.05\n",
      "196.475\n",
      "[191.05  191.051 191.052 ... 196.473 196.474 196.475]\n"
     ]
    }
   ],
   "source": [
    "print(s)\n",
    "print(e)\n",
    "wsFreq = np.arange(s, e + 0.001, 0.001)\n",
    "print(wsFreq)"
   ]
  },
  {
   "cell_type": "code",
   "execution_count": 84,
   "metadata": {},
   "outputs": [],
   "source": [
    "# plt.plot(optFreq,optSpectrum)\n",
    "# plt.show()\n",
    "# lin_spectrum = [10**(ii/10) for ii in optSpectrum]\n",
    "# plt.plot(optFreq, lin_spectrum)\n",
    "# plt.show()\n",
    "#f = interp1d(optFreq, lin_spectrum, kind='cubic')\n",
    "f = interp1d(optFreq, optSpectrum, kind='linear')\n",
    "\n",
    "optSpectrumInterp = f(wsFreq)\n",
    "#optSpectrumInterp = [10*math.log10(ii) for ii in lin_spectrum]\n",
    "maxPower = max(optSpectrumInterp)\n",
    "normPower = -4\n",
    "calb = 0 # yokuwakaranai\n"
   ]
  },
  {
   "cell_type": "code",
   "execution_count": 85,
   "metadata": {},
   "outputs": [
    {
     "data": {
      "text/plain": [
       "<matplotlib.collections.PathCollection at 0x19d49da0880>"
      ]
     },
     "execution_count": 85,
     "metadata": {},
     "output_type": "execute_result"
    },
    {
     "data": {
      "image/png": "[encoded data removed]",
      "text/plain": [
       "<Figure size 432x288 with 1 Axes>"
      ]
     },
     "metadata": {
      "needs_background": "light"
     },
     "output_type": "display_data"
    }
   ],
   "source": [
    "plt.scatter(wsFreq, ((optSpectrumInterp - maxPower) - normPower)  - calb,s=1)"
   ]
  },
  {
   "cell_type": "code",
   "execution_count": 86,
   "metadata": {},
   "outputs": [],
   "source": [
    "\n",
    "wsAttn = (optSpectrumInterp - maxPower) - normPower - calb\n",
    "wsPhase = np.zeros(wsFreq.shape)\n",
    "wsPort = np.ones(wsFreq.shape)\n",
    "# Upload profile using created data\n",
    "r = uploadProfile(ip, wsFreq, wsAttn, wsPhase, wsPort)"
   ]
  },
  {
   "cell_type": "code",
   "execution_count": 87,
   "metadata": {},
   "outputs": [],
   "source": [
    "#np.savetxt(\"test.wsp\", )\n",
    "instr.close()"
   ]
  }
 ],
 "metadata": {
  "kernelspec": {
   "display_name": "Python 3",
   "language": "python",
   "name": "python3"
  },
  "language_info": {
   "codemirror_mode": {
    "name": "ipython",
    "version": 3
   },
   "file_extension": ".py",
   "mimetype": "text/x-python",
   "name": "python",
   "nbconvert_exporter": "python",
   "pygments_lexer": "ipython3",
   "version": "3.8.8"
  }
 },
 "nbformat": 4,
 "nbformat_minor": 2
}
